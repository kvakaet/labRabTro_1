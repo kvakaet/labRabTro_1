{
 "cells": [
  {
   "cell_type": "markdown",
   "id": "8da31deb",
   "metadata": {},
   "source": [
    "В июле планируется взять кредит в банке на сумму 9 млн рублей на некоторый срок (целое число лет). Условия его возврата таковы:\n",
    "\n",
    "— каждый январь долг возрастает на 20% по сравнению с концом предыдущего года;\n",
    "\n",
    "— с февраля по июнь каждого года необходимо выплатить часть долга;\n",
    "\n",
    "— в июле каждого года долг должен быть на одну и ту же сумму меньше долга на июль предыдущего года.\n",
    "\n",
    "Чему будет равна общая сумма выплат после полного погашения кредита, если наибольший годовой платёж составит 3,6 млн рублей?"
   ]
  },
  {
   "cell_type": "code",
   "execution_count": 4,
   "id": "34096b22",
   "metadata": {},
   "outputs": [
    {
     "name": "stdout",
     "output_type": "stream",
     "text": [
      "Общая сумма выплат: 7200000.00 рублей\n"
     ]
    }
   ],
   "source": [
    "# Исходные данные\n",
    "credit_amount = 9000000  # сумма кредита\n",
    "max_payment = 3600000  # максимальный годовой платеж\n",
    "interest_rate = 0.2  # годовая процентная ставка\n",
    "months = 12  # количество месяцев в году\n",
    "\n",
    "# Расчет суммы выплат\n",
    "total_payments = 0\n",
    "debt = credit_amount\n",
    "year = 1\n",
    "while debt > 0:\n",
    "    # Расчет ежемесячного платежа\n",
    "    if year == 1:\n",
    "        monthly_rate = interest_rate / months\n",
    "        monthly_payment = debt * (monthly_rate / (1 - (1 + monthly_rate) ** (-months)))\n",
    "        monthly_payment = min(monthly_payment, max_payment / 5)\n",
    "    else:\n",
    "        monthly_payment = max_payment / 5\n",
    "        \n",
    "    # Выплата платежей с февраля по июнь\n",
    "    for month in range(2, 7):\n",
    "        total_payments += monthly_payment\n",
    "        debt -= monthly_payment\n",
    "    \n",
    "    # Расчет долга на июль\n",
    "    debt *= (1 + interest_rate)\n",
    "    debt -= max_payment\n",
    "    \n",
    "    # Увеличение года\n",
    "    year += 1\n",
    "    \n",
    "# Вывод результата\n",
    "print(f\"Общая сумма выплат: {total_payments:.2f} рублей\")"
   ]
  },
  {
   "cell_type": "code",
   "execution_count": null,
   "id": "6c941ece",
   "metadata": {},
   "outputs": [],
   "source": []
  }
 ],
 "metadata": {
  "kernelspec": {
   "display_name": "Python 3 (ipykernel)",
   "language": "python",
   "name": "python3"
  },
  "language_info": {
   "codemirror_mode": {
    "name": "ipython",
    "version": 3
   },
   "file_extension": ".py",
   "mimetype": "text/x-python",
   "name": "python",
   "nbconvert_exporter": "python",
   "pygments_lexer": "ipython3",
   "version": "3.9.13"
  }
 },
 "nbformat": 4,
 "nbformat_minor": 5
}
